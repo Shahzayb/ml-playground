{
 "cells": [
  {
   "cell_type": "code",
   "execution_count": 1,
   "id": "aac4fa18",
   "metadata": {},
   "outputs": [],
   "source": [
    "import numpy as np"
   ]
  },
  {
   "cell_type": "code",
   "execution_count": 4,
   "id": "c2da5603",
   "metadata": {},
   "outputs": [],
   "source": [
    "random_ndarray = np.random.randint(0, 20, size=(2,3,4,5))"
   ]
  },
  {
   "cell_type": "code",
   "execution_count": 5,
   "id": "ed5b15a8",
   "metadata": {},
   "outputs": [
    {
     "data": {
      "text/plain": [
       "array([[[[ 0, 19,  2, 16,  0],\n",
       "         [ 5, 15, 14,  9, 10],\n",
       "         [ 5,  6,  1, 15, 12],\n",
       "         [16, 15, 16, 15, 16]],\n",
       "\n",
       "        [[ 9, 15,  9, 13, 13],\n",
       "         [ 2,  7,  4,  9, 19],\n",
       "         [ 4, 17,  5,  7,  6],\n",
       "         [ 2,  1,  9, 14, 10]],\n",
       "\n",
       "        [[15, 12,  5,  8, 18],\n",
       "         [12,  2,  3,  2,  8],\n",
       "         [ 6,  3, 17,  2,  3],\n",
       "         [16,  8,  4,  6, 17]]],\n",
       "\n",
       "\n",
       "       [[[16, 14,  3,  0,  2],\n",
       "         [ 9, 18,  4,  8, 10],\n",
       "         [ 5, 13,  2, 10, 10],\n",
       "         [ 8, 15,  7,  9,  6]],\n",
       "\n",
       "        [[ 6, 11,  0,  5,  9],\n",
       "         [13,  1, 16,  9, 15],\n",
       "         [11, 15, 10,  5, 18],\n",
       "         [ 1, 12, 15, 13,  0]],\n",
       "\n",
       "        [[19,  2,  5, 16,  4],\n",
       "         [ 6,  0, 14,  4,  7],\n",
       "         [12,  1, 16,  3, 15],\n",
       "         [ 7, 19, 17, 15, 14]]]])"
      ]
     },
     "execution_count": 5,
     "metadata": {},
     "output_type": "execute_result"
    }
   ],
   "source": [
    "random_ndarray"
   ]
  },
  {
   "cell_type": "code",
   "execution_count": 6,
   "id": "7881b47d",
   "metadata": {},
   "outputs": [
    {
     "data": {
      "text/plain": [
       "((2, 3, 4, 5), 4)"
      ]
     },
     "execution_count": 6,
     "metadata": {},
     "output_type": "execute_result"
    }
   ],
   "source": [
    "random_ndarray.shape, random_ndarray.ndim"
   ]
  },
  {
   "cell_type": "code",
   "execution_count": 11,
   "id": "a45b215e",
   "metadata": {},
   "outputs": [
    {
     "name": "stdout",
     "output_type": "stream",
     "text": [
      "variance 55548052000.0 8.0\n",
      "standard deviation 235686.34241296205 2.8284271247461903\n",
      "mean 130200.0 6.0\n"
     ]
    }
   ],
   "source": [
    "high_var_array = np.array([100, 300, 600, 50000, 600000])\n",
    "low_var_array = np.array([2,4,6,8,10])\n",
    "\n",
    "print('variance', np.var(high_var_array), np.var(low_var_array))\n",
    "print('standard deviation', np.std(high_var_array), np.std(low_var_array))\n",
    "print('mean', np.mean(high_var_array), np.mean(low_var_array))"
   ]
  },
  {
   "cell_type": "code",
   "execution_count": null,
   "id": "26bd9356",
   "metadata": {},
   "outputs": [],
   "source": []
  }
 ],
 "metadata": {
  "kernelspec": {
   "display_name": "Python 3",
   "language": "python",
   "name": "python3"
  },
  "language_info": {
   "codemirror_mode": {
    "name": "ipython",
    "version": 3
   },
   "file_extension": ".py",
   "mimetype": "text/x-python",
   "name": "python",
   "nbconvert_exporter": "python",
   "pygments_lexer": "ipython3",
   "version": "3.13.4"
  }
 },
 "nbformat": 4,
 "nbformat_minor": 5
}
